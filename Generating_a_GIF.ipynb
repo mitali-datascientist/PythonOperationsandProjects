{
  "nbformat": 4,
  "nbformat_minor": 0,
  "metadata": {
    "colab": {
      "name": "Generating a GIF.ipynb",
      "provenance": [],
      "authorship_tag": "ABX9TyOOGAB69ZElme52ksT1Z81+",
      "include_colab_link": true
    },
    "kernelspec": {
      "name": "python3",
      "display_name": "Python 3"
    }
  },
  "cells": [
    {
      "cell_type": "markdown",
      "metadata": {
        "id": "view-in-github",
        "colab_type": "text"
      },
      "source": [
        "<a href=\"https://colab.research.google.com/github/mitali-datascientist/PythonOperationsandProjects/blob/master/Generating_a_GIF.ipynb\" target=\"_parent\"><img src=\"https://colab.research.google.com/assets/colab-badge.svg\" alt=\"Open In Colab\"/></a>"
      ]
    },
    {
      "cell_type": "code",
      "metadata": {
        "id": "WB7SlOtKc11u",
        "colab_type": "code",
        "colab": {}
      },
      "source": [
        "from PIL import Image, ImageDraw\n"
      ],
      "execution_count": null,
      "outputs": []
    },
    {
      "cell_type": "code",
      "metadata": {
        "id": "zII4wZXAd_zP",
        "colab_type": "code",
        "colab": {}
      },
      "source": [
        "im1 = Image.open(\"/content/IMG-20181108-WA0018.jpg\")\n",
        "im2 = Image.open(\"/content/IMG-20181108-WA0019.jpg\")\n",
        "im3 = Image.open(\"/content/IMG-20181108-WA0020.jpg\")"
      ],
      "execution_count": null,
      "outputs": []
    },
    {
      "cell_type": "code",
      "metadata": {
        "id": "BYbqrAGFc3bm",
        "colab_type": "code",
        "colab": {}
      },
      "source": [
        "images = []"
      ],
      "execution_count": null,
      "outputs": []
    },
    {
      "cell_type": "code",
      "metadata": {
        "id": "2M5pQ1Czc6JB",
        "colab_type": "code",
        "colab": {}
      },
      "source": [
        "width = 500\n",
        "center = width // 2\n",
        "color_1 = (0, 0, 0)\n",
        "color_2 = (255, 255, 255)\n",
        "max_radius = int(center * 1.5)\n",
        "step = 8"
      ],
      "execution_count": null,
      "outputs": []
    },
    {
      "cell_type": "code",
      "metadata": {
        "id": "foBybaSBc9cL",
        "colab_type": "code",
        "colab": {}
      },
      "source": [
        "for i in range(0, max_radius, step):\n",
        "    im = Image.new('RGB', (width, width), color_1)\n",
        "    draw = ImageDraw.Draw(im)\n",
        "    draw.ellipse((center - i, center - i, center + i, center + i), fill=color_2)\n",
        "    images.append(im)\n"
      ],
      "execution_count": null,
      "outputs": []
    },
    {
      "cell_type": "code",
      "metadata": {
        "id": "vFF-Cswvc_QZ",
        "colab_type": "code",
        "colab": {}
      },
      "source": [
        "for i in range(0, max_radius, step):\n",
        "    im = Image.new('RGB', (width, width), color_2)\n",
        "    draw = ImageDraw.Draw(im)\n",
        "    draw.ellipse((center - i, center - i, center + i, center + i), fill=color_1)\n",
        "    images.append(im)"
      ],
      "execution_count": null,
      "outputs": []
    },
    {
      "cell_type": "markdown",
      "metadata": {
        "id": "e9dNAiNPdYdn",
        "colab_type": "text"
      },
      "source": [
        "### If you want to create a GIF animation from multiple existing images instead of drawing graphics and creating images as in the example above, you can process the same if you load the images and store them in a list."
      ]
    },
    {
      "cell_type": "code",
      "metadata": {
        "id": "Uhi2I3BwfAsW",
        "colab_type": "code",
        "colab": {}
      },
      "source": [
        "images.append(im1)\n",
        "images.append(im2)\n",
        "images.append(im3)"
      ],
      "execution_count": null,
      "outputs": []
    },
    {
      "cell_type": "code",
      "metadata": {
        "id": "nTjjx8aidMV8",
        "colab_type": "code",
        "colab": {}
      },
      "source": [
        "im.save('out.gif', save_all=True, append_images=images, optimize= True)\n"
      ],
      "execution_count": null,
      "outputs": []
    },
    {
      "cell_type": "code",
      "metadata": {
        "id": "wXVmfzkXfI2C",
        "colab_type": "code",
        "colab": {}
      },
      "source": [
        ""
      ],
      "execution_count": null,
      "outputs": []
    }
  ]
}